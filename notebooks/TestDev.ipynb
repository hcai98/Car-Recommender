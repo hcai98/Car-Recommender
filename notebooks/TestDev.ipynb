{
 "cells": [
  {
   "cell_type": "code",
   "execution_count": 25,
   "id": "bb8ec4ec-9d2e-4527-8087-d2203988733b",
   "metadata": {},
   "outputs": [],
   "source": [
    "from src.modeling.clean import aggregate_by_keys, transform_vars"
   ]
  },
  {
   "cell_type": "code",
   "execution_count": 30,
   "id": "99a5baba-9cb3-4b89-b2dc-9572103ee536",
   "metadata": {},
   "outputs": [],
   "source": [
    "import pandas as pd\n",
    "from src.utils.io import read_yml"
   ]
  },
  {
   "cell_type": "code",
   "execution_count": 121,
   "id": "87d8bdab-b67a-4792-b8e2-1ea661f6b021",
   "metadata": {},
   "outputs": [
    {
     "name": "stderr",
     "output_type": "stream",
     "text": [
      "/var/folders/64/5323jnh14zv0qbb9cp6_yw9w0000gn/T/ipykernel_85364/2613564572.py:5: DtypeWarning: Columns (13) have mixed types. Specify dtype option on import or set low_memory=False.\n",
      "  df = pd.read_csv('./data/raw/Ad_table.csv')\n"
     ]
    }
   ],
   "source": [
    "config_clean = read_yml('./config/config_modeling.yml')['clean']\n",
    "aggregation = config_clean['aggregation']\n",
    "rename_map = config_clean['rename_map']\n",
    "\n",
    "df = pd.read_csv('./data/raw/Ad_table.csv')\n",
    "df.columns = [col.strip().lower() for col in df.columns]\n",
    "df = df.rename(columns=rename_map)"
   ]
  },
  {
   "cell_type": "code",
   "execution_count": 122,
   "id": "c23b5ab7-1187-4d9d-807e-e4655dea191f",
   "metadata": {},
   "outputs": [],
   "source": [
    "df_in = df.sample(20, random_state=1234).sort_values('maker')"
   ]
  },
  {
   "cell_type": "code",
   "execution_count": 124,
   "id": "b3181e16-bf41-42a5-b614-2e80fd6024a9",
   "metadata": {},
   "outputs": [],
   "source": [
    "# df_in = df_in[['engin_size', 'price']]\n",
    "# df_in"
   ]
  },
  {
   "cell_type": "code",
   "execution_count": 125,
   "id": "dc53ebcd-d085-48ca-a449-22e269769991",
   "metadata": {},
   "outputs": [],
   "source": [
    "df_in = pd.DataFrame([['3.0L', '24995'],\n",
    "       ['3.0L', 10995],\n",
    "       ['3.0L', '57990'],\n",
    "       ['1.0L', 5107],\n",
    "       ['2.0L', 23000],\n",
    "       ['2.2L', 11999],\n",
    "       ['1.6L', 1295],\n",
    "       ['2.2L', 17990],\n",
    "       ['2.0L', 2865],\n",
    "       ['3.0L', 2490],\n",
    "       ['2.2L', 2694],\n",
    "       ['1.9L', 1290],\n",
    "       ['1.2L', 13795],\n",
    "       ['2.0L', '25989'],\n",
    "       ['1.33L', '5950'],\n",
    "       ['2.4L', '7495'],\n",
    "       ['1.8L', '2795'],\n",
    "       ['1.7L', '4799'],\n",
    "       ['1.4L', 14791],\n",
    "       ['1.6L', 6995]], columns=['engin_size', 'price'])\n",
    "\n",
    "transformation = {'vars_strip_numeric': ['engin_size'], \n",
    "                  'vars_drop_non_numeric_rows': ['price']}"
   ]
  },
  {
   "cell_type": "code",
   "execution_count": 126,
   "id": "702adbb8-8a87-4d4b-bcbb-f79511440174",
   "metadata": {},
   "outputs": [
    {
     "name": "stderr",
     "output_type": "stream",
     "text": [
      "/Users/billcai/Desktop/AVC_Project/Repo/src/modeling/clean.py:75: FutureWarning: The default value of regex will change from True to False in a future version.\n",
      "  data[var_strip_numeric] = (data[var_strip_numeric]\n"
     ]
    }
   ],
   "source": [
    "df_out = transform_vars(data=df_in, transformation=transformation)"
   ]
  },
  {
   "cell_type": "code",
   "execution_count": 128,
   "id": "5666c6f4-6892-442a-a4cc-1eb044ca0ca6",
   "metadata": {},
   "outputs": [
    {
     "data": {
      "text/plain": [
       "Index(['engin_size', 'price'], dtype='object')"
      ]
     },
     "execution_count": 128,
     "metadata": {},
     "output_type": "execute_result"
    }
   ],
   "source": [
    "df_out.columns"
   ]
  },
  {
   "cell_type": "code",
   "execution_count": null,
   "id": "fa01f9ec-2d2b-4d63-bb4d-398f9c228f18",
   "metadata": {},
   "outputs": [
    {
     "data": {
      "text/plain": [
       "{'transformation': {'vars_strip_numeric': ['engin_size'],\n",
       "  'vars_drop_non_numeric_rows': ['price']},\n",
       " 'aggregation': {'key_cols': ['maker', 'genmodel', 'year', 'bodytype'],\n",
       "  'key_path': 'data/processed/keys.csv',\n",
       "  'agg_cols_transforms': {'genmodel_id': 'first',\n",
       "   'engin_size': 'first',\n",
       "   'gearbox': 'mode',\n",
       "   'fuel_type': 'first',\n",
       "   'price': 'mean',\n",
       "   'seat_num': 'mode',\n",
       "   'door_num': 'mode'}},\n",
       " 'rename_map': {'adv_year': 'year'},\n",
       " 'new_index': 'car_id'}"
      ]
     },
     "execution_count": 28,
     "metadata": {},
     "output_type": "execute_result"
    }
   ],
   "source": [
    "config_clean['rename_map']"
   ]
  },
  {
   "cell_type": "code",
   "execution_count": 135,
   "id": "4510902d-512d-42cb-8313-e7b24c457ac3",
   "metadata": {},
   "outputs": [],
   "source": [
    "aggregation = {\n",
    "    'key_cols': ['maker', 'year'],\n",
    " 'key_path': 'data/processed/teskeys.csv',\n",
    " 'agg_cols_transforms': {\n",
    "  'seat_num': 'first',\n",
    "  'door_num': 'mode'}\n",
    "}"
   ]
  },
  {
   "cell_type": "code",
   "execution_count": 154,
   "id": "c42966b9-7ee2-4d4c-94c8-1acd1395f7b4",
   "metadata": {},
   "outputs": [
    {
     "data": {
      "text/html": [
       "<div>\n",
       "<style scoped>\n",
       "    .dataframe tbody tr th:only-of-type {\n",
       "        vertical-align: middle;\n",
       "    }\n",
       "\n",
       "    .dataframe tbody tr th {\n",
       "        vertical-align: top;\n",
       "    }\n",
       "\n",
       "    .dataframe thead th {\n",
       "        text-align: right;\n",
       "    }\n",
       "</style>\n",
       "<table border=\"1\" class=\"dataframe\">\n",
       "  <thead>\n",
       "    <tr style=\"text-align: right;\">\n",
       "      <th></th>\n",
       "      <th>maker</th>\n",
       "      <th>year</th>\n",
       "      <th>seat_num</th>\n",
       "      <th>door_num</th>\n",
       "    </tr>\n",
       "  </thead>\n",
       "  <tbody>\n",
       "    <tr>\n",
       "      <th>181724</th>\n",
       "      <td>SKODA</td>\n",
       "      <td>2018</td>\n",
       "      <td>4.0</td>\n",
       "      <td>5.0</td>\n",
       "    </tr>\n",
       "    <tr>\n",
       "      <th>207651</th>\n",
       "      <td>BMW</td>\n",
       "      <td>2018</td>\n",
       "      <td>5.0</td>\n",
       "      <td>5.0</td>\n",
       "    </tr>\n",
       "    <tr>\n",
       "      <th>114575</th>\n",
       "      <td>Mitsubishi</td>\n",
       "      <td>2018</td>\n",
       "      <td>5.0</td>\n",
       "      <td>4.0</td>\n",
       "    </tr>\n",
       "    <tr>\n",
       "      <th>175752</th>\n",
       "      <td>Audi</td>\n",
       "      <td>2018</td>\n",
       "      <td>5.0</td>\n",
       "      <td>5.0</td>\n",
       "    </tr>\n",
       "    <tr>\n",
       "      <th>44306</th>\n",
       "      <td>Ford</td>\n",
       "      <td>2018</td>\n",
       "      <td>4.0</td>\n",
       "      <td>3.0</td>\n",
       "    </tr>\n",
       "    <tr>\n",
       "      <th>267600</th>\n",
       "      <td>Volvo</td>\n",
       "      <td>2018</td>\n",
       "      <td>5.0</td>\n",
       "      <td>5.0</td>\n",
       "    </tr>\n",
       "    <tr>\n",
       "      <th>23667</th>\n",
       "      <td>Ford</td>\n",
       "      <td>2018</td>\n",
       "      <td>5.0</td>\n",
       "      <td>3.0</td>\n",
       "    </tr>\n",
       "    <tr>\n",
       "      <th>213245</th>\n",
       "      <td>Toyota</td>\n",
       "      <td>2018</td>\n",
       "      <td>5.0</td>\n",
       "      <td>4.0</td>\n",
       "    </tr>\n",
       "    <tr>\n",
       "      <th>64168</th>\n",
       "      <td>Jaguar</td>\n",
       "      <td>2018</td>\n",
       "      <td>5.0</td>\n",
       "      <td>4.0</td>\n",
       "    </tr>\n",
       "    <tr>\n",
       "      <th>27904</th>\n",
       "      <td>Ford</td>\n",
       "      <td>2018</td>\n",
       "      <td>5.0</td>\n",
       "      <td>5.0</td>\n",
       "    </tr>\n",
       "    <tr>\n",
       "      <th>248742</th>\n",
       "      <td>Volkswagen</td>\n",
       "      <td>2018</td>\n",
       "      <td>5.0</td>\n",
       "      <td>5.0</td>\n",
       "    </tr>\n",
       "    <tr>\n",
       "      <th>2013</th>\n",
       "      <td>Chrysler</td>\n",
       "      <td>2018</td>\n",
       "      <td>NaN</td>\n",
       "      <td>NaN</td>\n",
       "    </tr>\n",
       "    <tr>\n",
       "      <th>70011</th>\n",
       "      <td>Jeep</td>\n",
       "      <td>2018</td>\n",
       "      <td>5.0</td>\n",
       "      <td>5.0</td>\n",
       "    </tr>\n",
       "    <tr>\n",
       "      <th>214650</th>\n",
       "      <td>Toyota</td>\n",
       "      <td>2018</td>\n",
       "      <td>5.0</td>\n",
       "      <td>5.0</td>\n",
       "    </tr>\n",
       "    <tr>\n",
       "      <th>168069</th>\n",
       "      <td>Audi</td>\n",
       "      <td>2018</td>\n",
       "      <td>5.0</td>\n",
       "      <td>5.0</td>\n",
       "    </tr>\n",
       "    <tr>\n",
       "      <th>63697</th>\n",
       "      <td>Jaguar</td>\n",
       "      <td>2018</td>\n",
       "      <td>5.0</td>\n",
       "      <td>4.0</td>\n",
       "    </tr>\n",
       "    <tr>\n",
       "      <th>80057</th>\n",
       "      <td>Land Rover</td>\n",
       "      <td>2018</td>\n",
       "      <td>5.0</td>\n",
       "      <td>5.0</td>\n",
       "    </tr>\n",
       "    <tr>\n",
       "      <th>168438</th>\n",
       "      <td>Audi</td>\n",
       "      <td>2018</td>\n",
       "      <td>5.0</td>\n",
       "      <td>5.0</td>\n",
       "    </tr>\n",
       "    <tr>\n",
       "      <th>43566</th>\n",
       "      <td>Ford</td>\n",
       "      <td>2018</td>\n",
       "      <td>5.0</td>\n",
       "      <td>5.0</td>\n",
       "    </tr>\n",
       "    <tr>\n",
       "      <th>73837</th>\n",
       "      <td>Kia</td>\n",
       "      <td>2018</td>\n",
       "      <td>5.0</td>\n",
       "      <td>5.0</td>\n",
       "    </tr>\n",
       "  </tbody>\n",
       "</table>\n",
       "</div>"
      ],
      "text/plain": [
       "             maker  year  seat_num  door_num\n",
       "181724       SKODA  2018       4.0       5.0\n",
       "207651         BMW  2018       5.0       5.0\n",
       "114575  Mitsubishi  2018       5.0       4.0\n",
       "175752        Audi  2018       5.0       5.0\n",
       "44306         Ford  2018       4.0       3.0\n",
       "267600       Volvo  2018       5.0       5.0\n",
       "23667         Ford  2018       5.0       3.0\n",
       "213245      Toyota  2018       5.0       4.0\n",
       "64168       Jaguar  2018       5.0       4.0\n",
       "27904         Ford  2018       5.0       5.0\n",
       "248742  Volkswagen  2018       5.0       5.0\n",
       "2013      Chrysler  2018       NaN       NaN\n",
       "70011         Jeep  2018       5.0       5.0\n",
       "214650      Toyota  2018       5.0       5.0\n",
       "168069        Audi  2018       5.0       5.0\n",
       "63697       Jaguar  2018       5.0       4.0\n",
       "80057   Land Rover  2018       5.0       5.0\n",
       "168438        Audi  2018       5.0       5.0\n",
       "43566         Ford  2018       5.0       5.0\n",
       "73837          Kia  2018       5.0       5.0"
      ]
     },
     "execution_count": 154,
     "metadata": {},
     "output_type": "execute_result"
    }
   ],
   "source": [
    "df_in_2 = df[['maker', 'year', 'seat_num', 'door_num']].sample(20)\n",
    "df_in_2"
   ]
  },
  {
   "cell_type": "code",
   "execution_count": 157,
   "id": "8324e2a8-22b1-4bd8-9899-c65f74d58c20",
   "metadata": {},
   "outputs": [],
   "source": [
    "\n",
    "df_in_2 = pd.DataFrame([['Hyundai', 2018, 5.0, 4.0],\n",
    "       ['Dacia', 2018, 5.0, 5.0],\n",
    "       ['Volkswagen', 2018, 5.0, 5.0],\n",
    "       ['Jaguar', 2017, 5.0, 4.0],\n",
    "       ['Mercedes-Benz', 2021, 5.0, 5.0],\n",
    "       ['Mitsubishi', 2018, 5.0, 3.0],\n",
    "       ['Land Rover', 2018, 5.0, 5.0],\n",
    "       ['MINI', 2018, 2.0, 2.0],\n",
    "       ['Renault', 2020, 5.0, 5.0],\n",
    "       ['Peugeot', 2018, 5.0, 5.0],\n",
    "       ['Land Rover', 2021, 5.0, 5.0],\n",
    "       ['Subaru', 2018, 5.0, 5.0],\n",
    "       ['Peugeot', 2018, 5.0, 5.0],\n",
    "       ['Renault', 2018, 5.0, 5.0],\n",
    "       ['Mercedes-Benz', 2018, 5.0, 5.0],\n",
    "       ['Kia', 2018, 5.0, 3.0],\n",
    "       ['Jaguar', 2018, 2.0, 2.0],\n",
    "       ['Jaguar', 2018, 5.0, 4.0],\n",
    "       ['Ford', 2018, 7.0, 5.0],\n",
    "       ['Ford', 2018, 5.0, 5.0]], columns=['maker', 'year', 'seat_num', 'door_num'])"
   ]
  },
  {
   "cell_type": "code",
   "execution_count": 158,
   "id": "118e032d-1e5b-4504-8445-d6845565f51a",
   "metadata": {},
   "outputs": [],
   "source": [
    "df_out = aggregate_by_keys(data=df_in_2, aggregation=aggregation, new_index=\"newcol\")"
   ]
  },
  {
   "cell_type": "code",
   "execution_count": 160,
   "id": "0cac0eb0-5575-4bc1-bc5d-49c6feae2802",
   "metadata": {},
   "outputs": [
    {
     "data": {
      "text/plain": [
       "Index(['newcol', 'maker', 'year', 'seat_num', 'door_num'], dtype='object')"
      ]
     },
     "execution_count": 160,
     "metadata": {},
     "output_type": "execute_result"
    }
   ],
   "source": [
    "df_out.columns"
   ]
  },
  {
   "cell_type": "code",
   "execution_count": 161,
   "id": "c99721a4-02a4-4e97-b1fc-b667960ab5d6",
   "metadata": {},
   "outputs": [
    {
     "data": {
      "text/plain": [
       "array([[0, 'Dacia', 2018, 5.0, 5.0],\n",
       "       [1, 'Ford', 2018, 7.0, 5.0],\n",
       "       [2, 'Hyundai', 2018, 5.0, 4.0],\n",
       "       [3, 'Jaguar', 2017, 5.0, 4.0],\n",
       "       [4, 'Jaguar', 2018, 2.0, 2.0],\n",
       "       [5, 'Kia', 2018, 5.0, 3.0],\n",
       "       [6, 'Land Rover', 2018, 5.0, 5.0],\n",
       "       [7, 'Land Rover', 2021, 5.0, 5.0],\n",
       "       [8, 'MINI', 2018, 2.0, 2.0],\n",
       "       [9, 'Mercedes-Benz', 2018, 5.0, 5.0],\n",
       "       [10, 'Mercedes-Benz', 2021, 5.0, 5.0],\n",
       "       [11, 'Mitsubishi', 2018, 5.0, 3.0],\n",
       "       [12, 'Peugeot', 2018, 5.0, 5.0],\n",
       "       [13, 'Renault', 2018, 5.0, 5.0],\n",
       "       [14, 'Renault', 2020, 5.0, 5.0],\n",
       "       [15, 'Subaru', 2018, 5.0, 5.0],\n",
       "       [16, 'Volkswagen', 2018, 5.0, 5.0]], dtype=object)"
      ]
     },
     "execution_count": 161,
     "metadata": {},
     "output_type": "execute_result"
    }
   ],
   "source": [
    "df_out.values"
   ]
  },
  {
   "cell_type": "code",
   "execution_count": null,
   "id": "a1470f14-721b-4443-bfe0-2c3c4eec8814",
   "metadata": {},
   "outputs": [],
   "source": []
  }
 ],
 "metadata": {
  "kernelspec": {
   "display_name": "avc-project",
   "language": "python",
   "name": "avc-project"
  },
  "language_info": {
   "codemirror_mode": {
    "name": "ipython",
    "version": 3
   },
   "file_extension": ".py",
   "mimetype": "text/x-python",
   "name": "python",
   "nbconvert_exporter": "python",
   "pygments_lexer": "ipython3",
   "version": "3.9.12"
  }
 },
 "nbformat": 4,
 "nbformat_minor": 5
}
